{
 "cells": [
  {
   "cell_type": "markdown",
   "id": "ef6616de-e573-4b92-8b8e-39bc2ef59323",
   "metadata": {},
   "source": [
    "# EDA in Univariate Analysis"
   ]
  },
  {
   "cell_type": "markdown",
   "id": "d7840593-488c-4fba-bd2c-0a5d421b9c56",
   "metadata": {},
   "source": [
    "### Import Library"
   ]
  },
  {
   "cell_type": "code",
   "execution_count": 29,
   "id": "788ad7b1-68ee-4eb3-a542-b6b3b28a270a",
   "metadata": {},
   "outputs": [],
   "source": [
    "import pandas as pd\n",
    "import seaborn as sns"
   ]
  },
  {
   "cell_type": "code",
   "execution_count": 30,
   "id": "b9a67c9d-4b84-44c8-a7c6-c7c572ea3ef9",
   "metadata": {},
   "outputs": [],
   "source": [
    "df = pd.read_csv('train.csv')"
   ]
  },
  {
   "cell_type": "code",
   "execution_count": 31,
   "id": "9d91fdf4-b208-4076-ad28-bfffd62d182f",
   "metadata": {
    "scrolled": true
   },
   "outputs": [
    {
     "data": {
      "text/html": [
       "<div>\n",
       "<style scoped>\n",
       "    .dataframe tbody tr th:only-of-type {\n",
       "        vertical-align: middle;\n",
       "    }\n",
       "\n",
       "    .dataframe tbody tr th {\n",
       "        vertical-align: top;\n",
       "    }\n",
       "\n",
       "    .dataframe thead th {\n",
       "        text-align: right;\n",
       "    }\n",
       "</style>\n",
       "<table border=\"1\" class=\"dataframe\">\n",
       "  <thead>\n",
       "    <tr style=\"text-align: right;\">\n",
       "      <th></th>\n",
       "      <th>PassengerId</th>\n",
       "      <th>Survived</th>\n",
       "      <th>Pclass</th>\n",
       "      <th>Name</th>\n",
       "      <th>Sex</th>\n",
       "      <th>Age</th>\n",
       "      <th>SibSp</th>\n",
       "      <th>Parch</th>\n",
       "      <th>Ticket</th>\n",
       "      <th>Fare</th>\n",
       "      <th>Cabin</th>\n",
       "      <th>Embarked</th>\n",
       "    </tr>\n",
       "  </thead>\n",
       "  <tbody>\n",
       "    <tr>\n",
       "      <th>614</th>\n",
       "      <td>615</td>\n",
       "      <td>0</td>\n",
       "      <td>3</td>\n",
       "      <td>Brocklebank, Mr. William Alfred</td>\n",
       "      <td>male</td>\n",
       "      <td>35.0</td>\n",
       "      <td>0</td>\n",
       "      <td>0</td>\n",
       "      <td>364512</td>\n",
       "      <td>8.050</td>\n",
       "      <td>NaN</td>\n",
       "      <td>S</td>\n",
       "    </tr>\n",
       "    <tr>\n",
       "      <th>343</th>\n",
       "      <td>344</td>\n",
       "      <td>0</td>\n",
       "      <td>2</td>\n",
       "      <td>Sedgwick, Mr. Charles Frederick Waddington</td>\n",
       "      <td>male</td>\n",
       "      <td>25.0</td>\n",
       "      <td>0</td>\n",
       "      <td>0</td>\n",
       "      <td>244361</td>\n",
       "      <td>13.000</td>\n",
       "      <td>NaN</td>\n",
       "      <td>S</td>\n",
       "    </tr>\n",
       "    <tr>\n",
       "      <th>559</th>\n",
       "      <td>560</td>\n",
       "      <td>1</td>\n",
       "      <td>3</td>\n",
       "      <td>de Messemaeker, Mrs. Guillaume Joseph (Emma)</td>\n",
       "      <td>female</td>\n",
       "      <td>36.0</td>\n",
       "      <td>1</td>\n",
       "      <td>0</td>\n",
       "      <td>345572</td>\n",
       "      <td>17.400</td>\n",
       "      <td>NaN</td>\n",
       "      <td>S</td>\n",
       "    </tr>\n",
       "    <tr>\n",
       "      <th>763</th>\n",
       "      <td>764</td>\n",
       "      <td>1</td>\n",
       "      <td>1</td>\n",
       "      <td>Carter, Mrs. William Ernest (Lucile Polk)</td>\n",
       "      <td>female</td>\n",
       "      <td>36.0</td>\n",
       "      <td>1</td>\n",
       "      <td>2</td>\n",
       "      <td>113760</td>\n",
       "      <td>120.000</td>\n",
       "      <td>B96 B98</td>\n",
       "      <td>S</td>\n",
       "    </tr>\n",
       "    <tr>\n",
       "      <th>173</th>\n",
       "      <td>174</td>\n",
       "      <td>0</td>\n",
       "      <td>3</td>\n",
       "      <td>Sivola, Mr. Antti Wilhelm</td>\n",
       "      <td>male</td>\n",
       "      <td>21.0</td>\n",
       "      <td>0</td>\n",
       "      <td>0</td>\n",
       "      <td>STON/O 2. 3101280</td>\n",
       "      <td>7.925</td>\n",
       "      <td>NaN</td>\n",
       "      <td>S</td>\n",
       "    </tr>\n",
       "  </tbody>\n",
       "</table>\n",
       "</div>"
      ],
      "text/plain": [
       "     PassengerId  Survived  Pclass  \\\n",
       "614          615         0       3   \n",
       "343          344         0       2   \n",
       "559          560         1       3   \n",
       "763          764         1       1   \n",
       "173          174         0       3   \n",
       "\n",
       "                                             Name     Sex   Age  SibSp  Parch  \\\n",
       "614               Brocklebank, Mr. William Alfred    male  35.0      0      0   \n",
       "343    Sedgwick, Mr. Charles Frederick Waddington    male  25.0      0      0   \n",
       "559  de Messemaeker, Mrs. Guillaume Joseph (Emma)  female  36.0      1      0   \n",
       "763     Carter, Mrs. William Ernest (Lucile Polk)  female  36.0      1      2   \n",
       "173                     Sivola, Mr. Antti Wilhelm    male  21.0      0      0   \n",
       "\n",
       "                Ticket     Fare    Cabin Embarked  \n",
       "614             364512    8.050      NaN        S  \n",
       "343             244361   13.000      NaN        S  \n",
       "559             345572   17.400      NaN        S  \n",
       "763             113760  120.000  B96 B98        S  \n",
       "173  STON/O 2. 3101280    7.925      NaN        S  "
      ]
     },
     "execution_count": 31,
     "metadata": {},
     "output_type": "execute_result"
    }
   ],
   "source": [
    "df.sample(5)"
   ]
  },
  {
   "cell_type": "markdown",
   "id": "2e679322-294a-4e73-a080-d06303340943",
   "metadata": {},
   "source": [
    "# 1. Categorical Data"
   ]
  },
  {
   "cell_type": "markdown",
   "id": "e2633eba-d780-40e5-a833-123df5378499",
   "metadata": {},
   "source": [
    "## a. Countplot"
   ]
  },
  {
   "cell_type": "code",
   "execution_count": 24,
   "id": "c63d0efa-c3e1-4a87-ba28-7cad22b8abb7",
   "metadata": {},
   "outputs": [
    {
     "data": {
      "text/plain": [
       "Survived\n",
       "0    549\n",
       "1    342\n",
       "Name: count, dtype: int64"
      ]
     },
     "execution_count": 24,
     "metadata": {},
     "output_type": "execute_result"
    },
    {
     "data": {
      "image/png": "[encoded data removed]",
      "text/plain": [
       "<Figure size 640x480 with 1 Axes>"
      ]
     },
     "metadata": {},
     "output_type": "display_data"
    }
   ],
   "source": [
    "sns.countplot(x='Survived', data=df) \n",
    "df['Survived'].value_counts()"
   ]
  },
  {
   "cell_type": "code",
   "execution_count": 25,
   "id": "3c16ce01-ac0f-4152-aa9d-e3977175cc06",
   "metadata": {},
   "outputs": [
    {
     "data": {
      "text/plain": [
       "Pclass\n",
       "3    491\n",
       "1    216\n",
       "2    184\n",
       "Name: count, dtype: int64"
      ]
     },
     "execution_count": 25,
     "metadata": {},
     "output_type": "execute_result"
    },
    {
     "data": {
      "image/png": "[encoded data removed]",
      "text/plain": [
       "<Figure size 640x480 with 1 Axes>"
      ]
     },
     "metadata": {},
     "output_type": "display_data"
    }
   ],
   "source": [
    "sns.countplot(x='Pclass', data=df) \n",
    "df['Pclass'].value_counts()"
   ]
  },
  {
   "cell_type": "markdown",
   "id": "d08c4c75-a500-45e2-ae6f-50f030e31014",
   "metadata": {},
   "source": [
    "# b. Piechart"
   ]
  },
  {
   "cell_type": "code",
   "execution_count": 26,
   "id": "b45cbe9f-b157-4131-abe9-7d0d7b4c99c0",
   "metadata": {},
   "outputs": [
    {
     "data": {
      "text/plain": [
       "<Axes: ylabel='count'>"
      ]
     },
     "execution_count": 26,
     "metadata": {},
     "output_type": "execute_result"
    },
    {
     "data": {
      "image/png": "[encoded data removed]",
      "text/plain": [
       "<Figure size 640x480 with 1 Axes>"
      ]
     },
     "metadata": {},
     "output_type": "display_data"
    }
   ],
   "source": [
    "df['Sex'].value_counts().plot(kind='pie',autopct='%.1f')"
   ]
  },
  {
   "cell_type": "markdown",
   "id": "bba2fad8-cb1e-40eb-94d6-27f73f358152",
   "metadata": {},
   "source": [
    "# 2. NUMERICAL DATA"
   ]
  },
  {
   "cell_type": "markdown",
   "id": "5be89347-fdd8-440b-bb8b-7d2c5614cfb2",
   "metadata": {},
   "source": [
    "## a. Histogram"
   ]
  },
  {
   "cell_type": "code",
   "execution_count": 27,
   "id": "d9aae4a7-3930-4679-bb05-4d0ddac89b93",
   "metadata": {},
   "outputs": [],
   "source": [
    "import matplotlib.pyplot as plt"
   ]
  },
  {
   "cell_type": "code",
   "execution_count": 20,
   "id": "b2b37bd2-273d-4cb6-b77b-e7b547b3f0ab",
   "metadata": {
    "scrolled": true
   },
   "outputs": [
    {
     "data": {
      "text/plain": [
       "(array([ 64., 115., 230., 155.,  86.,  42.,  17.,   5.]),\n",
       " array([ 0.42  , 10.3675, 20.315 , 30.2625, 40.21  , 50.1575, 60.105 ,\n",
       "        70.0525, 80.    ]),\n",
       " <BarContainer object of 8 artists>)"
      ]
     },
     "execution_count": 20,
     "metadata": {},
     "output_type": "execute_result"
    },
    {
     "data": {
      "image/png": "[encoded data removed]",
      "text/plain": [
       "<Figure size 640x480 with 1 Axes>"
      ]
     },
     "metadata": {},
     "output_type": "display_data"
    }
   ],
   "source": [
    "plt.hist(df['Age'],bins=8)"
   ]
  },
  {
   "cell_type": "markdown",
   "id": "865c46aa-af66-4bc9-93a1-5721dc2a4346",
   "metadata": {},
   "source": [
    "## b. Distplot / Histplot"
   ]
  },
  {
   "cell_type": "code",
   "execution_count": 28,
   "id": "2e67a71c-af34-458c-b910-82e1a9126341",
   "metadata": {},
   "outputs": [
    {
     "data": {
      "text/plain": [
       "<Axes: xlabel='Age', ylabel='Count'>"
      ]
     },
     "execution_count": 28,
     "metadata": {},
     "output_type": "execute_result"
    },
    {
     "data": {
      "image/png": "[encoded data removed]",
      "text/plain": [
       "<Figure size 640x480 with 1 Axes>"
      ]
     },
     "metadata": {},
     "output_type": "display_data"
    }
   ],
   "source": [
    "sns.histplot(df['Age'])"
   ]
  },
  {
   "cell_type": "markdown",
   "id": "b68efc84-23c8-44cb-826a-fbaae8c7ac13",
   "metadata": {},
   "source": [
    "## c. Boxplot"
   ]
  },
  {
   "cell_type": "code",
   "execution_count": 32,
   "id": "e0bdfb11-69b0-4f01-a5de-9493760f1108",
   "metadata": {},
   "outputs": [
    {
     "data": {
      "text/plain": [
       "<Axes: ylabel='Age'>"
      ]
     },
     "execution_count": 32,
     "metadata": {},
     "output_type": "execute_result"
    },
    {
     "data": {
      "image/png": "[encoded data removed]",
      "text/plain": [
       "<Figure size 640x480 with 1 Axes>"
      ]
     },
     "metadata": {},
     "output_type": "display_data"
    }
   ],
   "source": [
    "sns.boxplot(df['Age'])"
   ]
  },
  {
   "cell_type": "code",
   "execution_count": 34,
   "id": "6a504136-718f-407a-a19e-f4149ec918f3",
   "metadata": {},
   "outputs": [
    {
     "data": {
      "text/plain": [
       "0.42"
      ]
     },
     "execution_count": 34,
     "metadata": {},
     "output_type": "execute_result"
    }
   ],
   "source": [
    "df['Age'].min()"
   ]
  },
  {
   "cell_type": "code",
   "execution_count": 35,
   "id": "b2039888-519b-4f2a-b5ca-78549b21d62d",
   "metadata": {},
   "outputs": [
    {
     "data": {
      "text/plain": [
       "80.0"
      ]
     },
     "execution_count": 35,
     "metadata": {},
     "output_type": "execute_result"
    }
   ],
   "source": [
    "df['Age'].max()"
   ]
  },
  {
   "cell_type": "code",
   "execution_count": 36,
   "id": "ec91125a-7457-4955-a69f-6ff6298d40f6",
   "metadata": {},
   "outputs": [
    {
     "data": {
      "text/plain": [
       "np.float64(29.69911764705882)"
      ]
     },
     "execution_count": 36,
     "metadata": {},
     "output_type": "execute_result"
    }
   ],
   "source": [
    "df['Age'].mean()"
   ]
  },
  {
   "cell_type": "code",
   "execution_count": 37,
   "id": "e444cb20-0f88-41b0-8d6d-2abfb300de0e",
   "metadata": {},
   "outputs": [
    {
     "data": {
      "text/plain": [
       "np.float64(0.38910778230082704)"
      ]
     },
     "execution_count": 37,
     "metadata": {},
     "output_type": "execute_result"
    }
   ],
   "source": [
    "df['Age'].skew()"
   ]
  },
  {
   "cell_type": "code",
   "execution_count": null,
   "id": "1afa045b-2ee2-4226-a2ef-258d2ffe4cc1",
   "metadata": {},
   "outputs": [],
   "source": []
  },
  {
   "cell_type": "code",
   "execution_count": null,
   "id": "183b4167-911f-48a1-b41e-32d7bf2a0fb4",
   "metadata": {},
   "outputs": [],
   "source": []
  },
  {
   "cell_type": "code",
   "execution_count": null,
   "id": "e8975137-abce-4a4b-be7c-41f0466020af",
   "metadata": {},
   "outputs": [],
   "source": []
  },
  {
   "cell_type": "code",
   "execution_count": null,
   "id": "c549297b-d261-47f0-b662-f043254a0607",
   "metadata": {},
   "outputs": [],
   "source": []
  },
  {
   "cell_type": "code",
   "execution_count": null,
   "id": "5bb48456-5b63-4ff8-9108-00ffa44f8f2d",
   "metadata": {},
   "outputs": [],
   "source": []
  },
  {
   "cell_type": "code",
   "execution_count": null,
   "id": "8090ee70-416a-4926-9f7f-12d6507fd2d3",
   "metadata": {},
   "outputs": [],
   "source": []
  }
 ],
 "metadata": {
  "kernelspec": {
   "display_name": "Python [conda env:base] *",
   "language": "python",
   "name": "conda-base-py"
  },
  "language_info": {
   "codemirror_mode": {
    "name": "ipython",
    "version": 3
   },
   "file_extension": ".py",
   "mimetype": "text/x-python",
   "name": "python",
   "nbconvert_exporter": "python",
   "pygments_lexer": "ipython3",
   "version": "3.13.5"
  }
 },
 "nbformat": 4,
 "nbformat_minor": 5
}
