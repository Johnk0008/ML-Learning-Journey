{
 "cells": [
  {
   "cell_type": "markdown",
   "id": "8f35b617-6257-491b-b376-51b3bf473d29",
   "metadata": {},
   "source": [
    "# Summarizing the ML types in Python"
   ]
  },
  {
   "cell_type": "code",
   "execution_count": 15,
   "id": "e6b8d890-39f7-4a5c-b83e-bde88fa4fdb4",
   "metadata": {},
   "outputs": [],
   "source": [
    "ml_types = {\n",
    "'Supervised Learning': 'Learn from labeled data (e.g., Classification, Regression)',\n",
    "'Unsupervised Learning': 'Discover patterns from unlabeled data (e.g., Clustering)',\n",
    "'Semi-supervised Learning': 'Small labeled dataset + large unlabeled dataset',\n",
    "'Reinforcement Learning': 'Learning by interacting with environment (Trial & Error)'\n",
    "}"
   ]
  },
  {
   "cell_type": "code",
   "execution_count": 18,
   "id": "7413fea4-3fb0-4578-a3d4-8f96268092ab",
   "metadata": {},
   "outputs": [
    {
     "name": "stdout",
     "output_type": "stream",
     "text": [
      "Supervised Learning: Learn from labeled data (e.g., Classification, Regression)\n",
      "Unsupervised Learning: Discover patterns from unlabeled data (e.g., Clustering)\n",
      "Semi-supervised Learning: Small labeled dataset + large unlabeled dataset\n",
      "Reinforcement Learning: Learning by interacting with environment (Trial & Error)\n"
     ]
    }
   ],
   "source": [
    "for key,value in ml_types.items():\n",
    "    print(f\"{key}: {value}\")"
   ]
  },
  {
   "cell_type": "code",
   "execution_count": null,
   "id": "5d586c5a-87b0-4e2e-ac31-2c21d604b626",
   "metadata": {},
   "outputs": [],
   "source": []
  }
 ],
 "metadata": {
  "kernelspec": {
   "display_name": "Python [conda env:base] *",
   "language": "python",
   "name": "conda-base-py"
  },
  "language_info": {
   "codemirror_mode": {
    "name": "ipython",
    "version": 3
   },
   "file_extension": ".py",
   "mimetype": "text/x-python",
   "name": "python",
   "nbconvert_exporter": "python",
   "pygments_lexer": "ipython3",
   "version": "3.13.5"
  }
 },
 "nbformat": 4,
 "nbformat_minor": 5
}
