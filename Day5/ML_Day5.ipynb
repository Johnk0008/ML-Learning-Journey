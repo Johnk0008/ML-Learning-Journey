{
 "cells": [
  {
   "cell_type": "markdown",
   "id": "3260d89d-e010-48ec-8f4a-78f8e26cf0f0",
   "metadata": {},
   "source": [
    "# Data Gathering :- Fetching data using web scraping"
   ]
  },
  {
   "cell_type": "code",
   "execution_count": null,
   "id": "133c262a-4316-4b05-a5e9-4711771d86ac",
   "metadata": {},
   "outputs": [],
   "source": [
    "import pandas as pd\n",
    "import requests\n",
    "from bs4 import BeautifulSoup"
   ]
  },
  {
   "cell_type": "code",
   "execution_count": null,
   "id": "1ceb9f4e-1930-45a2-9ca5-aada5eaa7c4d",
   "metadata": {},
   "outputs": [],
   "source": [
    "headers = {\n",
    "    'User-Agent': 'Mozilla/5.0 (Macintosh; Intel Mac OS X 10_15_7) AppleWebKit/537.36 (KHTML, like Gecko) Firefox/117.0',\n",
    "    'Accept-Language': 'en-US,en;q=0.9',\n",
    "    'Accept': 'text/html,application/xhtml+xml,application/xml;q=0.9,image/webp,*/*;q=0.8'\n",
    "}"
   ]
  },
  {
   "cell_type": "markdown",
   "id": "58541319-2334-4b9d-a857-f52d2af3c8d1",
   "metadata": {},
   "source": [
    "### Fetch data from live Website using WebScraping"
   ]
  },
  {
   "cell_type": "code",
   "execution_count": null,
   "id": "3687f859-1405-443e-9b30-aab0201b07b8",
   "metadata": {},
   "outputs": [],
   "source": [
    "webpage=requests.get('https://www.ambitionbox.com/list-of-companies?page=1',headers=headers).text"
   ]
  },
  {
   "cell_type": "markdown",
   "id": "1c297da5-9340-491c-a422-749bd541fda8",
   "metadata": {},
   "source": [
    "### Use \"soup\" for beautifulsoup"
   ]
  },
  {
   "cell_type": "code",
   "execution_count": null,
   "id": "d7f043e1-d86f-4d1c-a884-b22f87b13472",
   "metadata": {},
   "outputs": [],
   "source": [
    "soup=BeautifulSoup(webpage,'lxml')"
   ]
  },
  {
   "cell_type": "code",
   "execution_count": null,
   "id": "85d4c08c-8da5-4a2a-ace1-f88b80a45ba0",
   "metadata": {},
   "outputs": [],
   "source": [
    "print(soup.prettify())"
   ]
  },
  {
   "cell_type": "markdown",
   "id": "f96b94e5-0ac9-4f66-8eb8-511307a6d9f2",
   "metadata": {},
   "source": [
    "# Extract the heading line"
   ]
  },
  {
   "cell_type": "code",
   "execution_count": null,
   "id": "a82dba3b-e5cf-4df7-b946-664f28d74468",
   "metadata": {},
   "outputs": [],
   "source": [
    "for n in soup.find_all('h1'): \n",
    "    print(n.text.strip())"
   ]
  },
  {
   "cell_type": "markdown",
   "id": "ed2b32f9-c586-4aa0-9971-0008905d4921",
   "metadata": {},
   "source": [
    "# Extract the Company Name"
   ]
  },
  {
   "cell_type": "code",
   "execution_count": null,
   "id": "56efd5f4-2d46-45ff-860e-48d9d410f9de",
   "metadata": {},
   "outputs": [],
   "source": [
    "for i in soup.find_all('h2'): \n",
    "    print(i.text.strip())"
   ]
  },
  {
   "cell_type": "markdown",
   "id": "4af24850-8df7-480b-be79-0d415e378357",
   "metadata": {},
   "source": [
    "# Extract Comapny Rating"
   ]
  },
  {
   "cell_type": "code",
   "execution_count": null,
   "id": "37c6847e-35c1-4c74-a7e1-195193534954",
   "metadata": {},
   "outputs": [],
   "source": [
    "for k in soup.find_all('span',class_='companyCardWrapper__companyRatingValue'): \n",
    "    print(k.text.strip())"
   ]
  },
  {
   "cell_type": "code",
   "execution_count": null,
   "id": "37cfc172-d333-4a98-8e45-30af2a251c0a",
   "metadata": {},
   "outputs": [],
   "source": [
    "for k in soup.find_all('span'): \n",
    "    print(k.text.strip())"
   ]
  },
  {
   "cell_type": "markdown",
   "id": "66088347-a6ed-47c0-8718-793622138979",
   "metadata": {},
   "source": [
    "# Extract Card Data"
   ]
  },
  {
   "cell_type": "code",
   "execution_count": null,
   "id": "63626be5-ca3a-4dee-b226-e8b72f9f5b07",
   "metadata": {},
   "outputs": [],
   "source": [
    "for j in soup.find_all('span',class_='companyCardWrapper__interLinking'): \n",
    "    print(j.text.strip())"
   ]
  },
  {
   "cell_type": "code",
   "execution_count": null,
   "id": "d6a0cfe9-f210-40f9-880d-a90c8d5d6c44",
   "metadata": {},
   "outputs": [],
   "source": []
  },
  {
   "cell_type": "code",
   "execution_count": null,
   "id": "992d35b8-6ee8-47a7-8656-b56d3e31ebf4",
   "metadata": {},
   "outputs": [],
   "source": []
  }
 ],
 "metadata": {
  "kernelspec": {
   "display_name": "Python [conda env:base] *",
   "language": "python",
   "name": "conda-base-py"
  },
  "language_info": {
   "codemirror_mode": {
    "name": "ipython",
    "version": 3
   },
   "file_extension": ".py",
   "mimetype": "text/x-python",
   "name": "python",
   "nbconvert_exporter": "python",
   "pygments_lexer": "ipython3",
   "version": "3.13.5"
  }
 },
 "nbformat": 4,
 "nbformat_minor": 5
}
